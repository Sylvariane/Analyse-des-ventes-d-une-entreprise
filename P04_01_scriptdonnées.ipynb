{
  "nbformat": 4,
  "nbformat_minor": 0,
  "metadata": {
    "kernelspec": {
      "display_name": "Python 3",
      "language": "python",
      "name": "python3"
    },
    "language_info": {
      "codemirror_mode": {
        "name": "ipython",
        "version": 3
      },
      "file_extension": ".py",
      "mimetype": "text/x-python",
      "name": "python",
      "nbconvert_exporter": "python",
      "pygments_lexer": "ipython3",
      "version": "3.7.6"
    },
    "colab": {
      "name": "P04_01_scriptdonnées.ipynb",
      "provenance": [],
      "collapsed_sections": [
        "viTkjAdK3zoW",
        "N4MpSEqA3zol",
        "OXBvz2Rh3zoq",
        "Xg1rUzAc3zoy",
        "AHRJiMpA3zo5",
        "6D5NdEdr3zo_"
      ],
      "include_colab_link": true
    }
  },
  "cells": [
    {
      "cell_type": "markdown",
      "metadata": {
        "id": "view-in-github",
        "colab_type": "text"
      },
      "source": [
        "<a href=\"https://colab.research.google.com/github/Sylvariane/Analyse-vente/blob/master/P04_01_scriptdonn%C3%A9es.ipynb\" target=\"_parent\"><img src=\"https://colab.research.google.com/assets/colab-badge.svg\" alt=\"Open In Colab\"/></a>"
      ]
    },
    {
      "cell_type": "markdown",
      "metadata": {
        "id": "IkqI8f6U3zl3",
        "colab_type": "text"
      },
      "source": [
        "# Script de nettoyage des données"
      ]
    },
    {
      "cell_type": "code",
      "metadata": {
        "id": "B7ikrXIj8FRE",
        "colab_type": "code",
        "colab": {
          "base_uri": "https://localhost:8080/",
          "height": 35
        },
        "outputId": "2d4caeb5-e501-4892-8572-65c20368ec67"
      },
      "source": [
        "# connexion à Google Drive pour importer les dossiers\n",
        "from google.colab import drive\n",
        "drive.mount('/content/drive')"
      ],
      "execution_count": null,
      "outputs": [
        {
          "output_type": "stream",
          "text": [
            "Drive already mounted at /content/drive; to attempt to forcibly remount, call drive.mount(\"/content/drive\", force_remount=True).\n"
          ],
          "name": "stdout"
        }
      ]
    },
    {
      "cell_type": "markdown",
      "metadata": {
        "id": "oac7y2Mh3zl6",
        "colab_type": "text"
      },
      "source": [
        "## 1. Téléchargements des modules et des fichiers"
      ]
    },
    {
      "cell_type": "code",
      "metadata": {
        "id": "A8HX69rp3zl-",
        "colab_type": "code",
        "colab": {
          "base_uri": "https://localhost:8080/",
          "height": 73
        },
        "outputId": "7a3f4617-6c2d-4141-a3cd-ba5b8ff822a8"
      },
      "source": [
        "# importation des modules nécessaires pour une première analyse et nettoyage des données\n",
        "import pandas as pd\n",
        "import numpy as np\n",
        "import datetime as dt\n",
        "\n",
        "import matplotlib.pyplot as plt\n",
        "import seaborn as sns"
      ],
      "execution_count": null,
      "outputs": [
        {
          "output_type": "stream",
          "text": [
            "/usr/local/lib/python3.6/dist-packages/statsmodels/tools/_testing.py:19: FutureWarning: pandas.util.testing is deprecated. Use the functions in the public API at pandas.testing instead.\n",
            "  import pandas.util.testing as tm\n"
          ],
          "name": "stderr"
        }
      ]
    },
    {
      "cell_type": "markdown",
      "metadata": {
        "id": "v13wHLhh3zmL",
        "colab_type": "text"
      },
      "source": [
        "Une fois les différents modules importés, on charge les fichiers bruts nécessaires à notre analyse. On dispose d'un jeu de données composé de trois fichiers : un fichier contenant les ventes, nommé transactions, mais qui sera renommé sells ; un fichier contenant les informations concernant les clients nommé customers puis renommé custom et un fichier contenant les informations les produits vendus se nommant products et qui sera renommé prod pour le reste de l'analyse."
      ]
    },
    {
      "cell_type": "code",
      "metadata": {
        "id": "t3QmtDGt3zmM",
        "colab_type": "code",
        "colab": {}
      },
      "source": [
        "# importation des fichiers stockés sur Google Drive\n",
        "\n",
        "sells = pd.read_csv('/content/drive/My Drive/Formation Data Analyst/Livrables/P4_guillot_cecile/sources/transactions.csv')\n",
        "custom = pd.read_csv('/content/drive/My Drive/Formation Data Analyst/Livrables/P4_guillot_cecile/sources/customers.csv')\n",
        "prod = pd.read_csv('/content/drive/My Drive/Formation Data Analyst/Livrables/P4_guillot_cecile/sources/products.csv')"
      ],
      "execution_count": null,
      "outputs": []
    },
    {
      "cell_type": "markdown",
      "metadata": {
        "id": "84yzgijR3zmU",
        "colab_type": "text"
      },
      "source": [
        "Dans un premier temps, les fichiers seront nettoyés un par un puis ensuite, ils seront croisés. Dans une dernière partie, les fichiers crées seront enregistrés pour être analysé. "
      ]
    },
    {
      "cell_type": "markdown",
      "metadata": {
        "id": "NA88WFJY3zmW",
        "colab_type": "text"
      },
      "source": [
        "## 2. Nettoyage des données du fichier des transactions"
      ]
    },
    {
      "cell_type": "markdown",
      "metadata": {
        "id": "Wzi72PPJ3zmX",
        "colab_type": "text"
      },
      "source": [
        "On commence par afficher les premières lignes du DataFrame pour voir sa composition. "
      ]
    },
    {
      "cell_type": "code",
      "metadata": {
        "id": "DjVgYsJY3zmY",
        "colab_type": "code",
        "colab": {
          "base_uri": "https://localhost:8080/",
          "height": 126
        },
        "outputId": "61117f86-a706-441d-d3d8-ba1abf47ccc5"
      },
      "source": [
        "print(sells.head())"
      ],
      "execution_count": null,
      "outputs": [
        {
          "output_type": "stream",
          "text": [
            "  id_prod                        date session_id client_id\n",
            "0  0_1483  2021-04-10 18:37:28.723910    s_18746    c_4450\n",
            "1   2_226  2022-02-03 01:55:53.276402   s_159142     c_277\n",
            "2   1_374  2021-09-23 15:13:46.938559    s_94290    c_4270\n",
            "3  0_2186  2021-10-17 03:27:18.783634   s_105936    c_4597\n",
            "4  0_1351  2021-07-17 20:34:25.800563    s_63642    c_1242\n"
          ],
          "name": "stdout"
        }
      ]
    },
    {
      "cell_type": "markdown",
      "metadata": {
        "id": "xu5qSV2d3zmh",
        "colab_type": "text"
      },
      "source": [
        "Le DataFrame des ventes contient quatre colonnes : l'identifiant des produits, la date de la transaction, le numéro de la session et l'identifiant du client acheteur."
      ]
    },
    {
      "cell_type": "markdown",
      "metadata": {
        "id": "0KNAfomU3zmi",
        "colab_type": "text"
      },
      "source": [
        "### 2.1. Analyse des données manquantes"
      ]
    },
    {
      "cell_type": "markdown",
      "metadata": {
        "id": "XEXPGwFM3zmj",
        "colab_type": "text"
      },
      "source": [
        "On affiche ensuite les données manquantes pouvant s'être introduite dans le fichier. Elles sont notées par le symbole NaN."
      ]
    },
    {
      "cell_type": "code",
      "metadata": {
        "id": "RVmg2Dba3zml",
        "colab_type": "code",
        "colab": {
          "base_uri": "https://localhost:8080/",
          "height": 108
        },
        "outputId": "5e066060-b2c8-418d-f5f4-2b92c474dddd"
      },
      "source": [
        "# Dénombrement des valeurs manquantes\n",
        "sells.isna().sum()"
      ],
      "execution_count": null,
      "outputs": [
        {
          "output_type": "execute_result",
          "data": {
            "text/plain": [
              "id_prod       False\n",
              "date          False\n",
              "session_id    False\n",
              "client_id     False\n",
              "dtype: bool"
            ]
          },
          "metadata": {
            "tags": []
          },
          "execution_count": 5
        }
      ]
    },
    {
      "cell_type": "markdown",
      "metadata": {
        "id": "FX_dannz3zms",
        "colab_type": "text"
      },
      "source": [
        "Le fichier contenant les informations sur les transactions ne présentent pas de données manquantes. "
      ]
    },
    {
      "cell_type": "markdown",
      "metadata": {
        "id": "HRhETLIO3zmu",
        "colab_type": "text"
      },
      "source": [
        "### 2.2. Analyse des données dupliquées"
      ]
    },
    {
      "cell_type": "markdown",
      "metadata": {
        "id": "72dca_tn3zmv",
        "colab_type": "text"
      },
      "source": [
        "On crée une variable qui contient les données dupliquées. Ensuite, on affiche les données dupliquées du DataFrame. "
      ]
    },
    {
      "cell_type": "code",
      "metadata": {
        "id": "cwYyWIgo3zmw",
        "colab_type": "code",
        "colab": {
          "base_uri": "https://localhost:8080/",
          "height": 424
        },
        "outputId": "c520b3fa-68d6-463a-b33e-a98f400d26a8"
      },
      "source": [
        "# création d'une variable contenant les informations dupliquées\n",
        "duplicated_sells = sells.duplicated()\n",
        "sells[duplicated_sells]"
      ],
      "execution_count": null,
      "outputs": [
        {
          "output_type": "execute_result",
          "data": {
            "text/html": [
              "<div>\n",
              "<style scoped>\n",
              "    .dataframe tbody tr th:only-of-type {\n",
              "        vertical-align: middle;\n",
              "    }\n",
              "\n",
              "    .dataframe tbody tr th {\n",
              "        vertical-align: top;\n",
              "    }\n",
              "\n",
              "    .dataframe thead th {\n",
              "        text-align: right;\n",
              "    }\n",
              "</style>\n",
              "<table border=\"1\" class=\"dataframe\">\n",
              "  <thead>\n",
              "    <tr style=\"text-align: right;\">\n",
              "      <th></th>\n",
              "      <th>id_prod</th>\n",
              "      <th>date</th>\n",
              "      <th>session_id</th>\n",
              "      <th>client_id</th>\n",
              "    </tr>\n",
              "  </thead>\n",
              "  <tbody>\n",
              "    <tr>\n",
              "      <th>34387</th>\n",
              "      <td>T_0</td>\n",
              "      <td>test_2021-03-01 02:30:02.237443</td>\n",
              "      <td>s_0</td>\n",
              "      <td>ct_0</td>\n",
              "    </tr>\n",
              "    <tr>\n",
              "      <th>54813</th>\n",
              "      <td>T_0</td>\n",
              "      <td>test_2021-03-01 02:30:02.237412</td>\n",
              "      <td>s_0</td>\n",
              "      <td>ct_1</td>\n",
              "    </tr>\n",
              "    <tr>\n",
              "      <th>57261</th>\n",
              "      <td>T_0</td>\n",
              "      <td>test_2021-03-01 02:30:02.237439</td>\n",
              "      <td>s_0</td>\n",
              "      <td>ct_1</td>\n",
              "    </tr>\n",
              "    <tr>\n",
              "      <th>58802</th>\n",
              "      <td>T_0</td>\n",
              "      <td>test_2021-03-01 02:30:02.237429</td>\n",
              "      <td>s_0</td>\n",
              "      <td>ct_0</td>\n",
              "    </tr>\n",
              "    <tr>\n",
              "      <th>60170</th>\n",
              "      <td>T_0</td>\n",
              "      <td>test_2021-03-01 02:30:02.237446</td>\n",
              "      <td>s_0</td>\n",
              "      <td>ct_0</td>\n",
              "    </tr>\n",
              "    <tr>\n",
              "      <th>...</th>\n",
              "      <td>...</td>\n",
              "      <td>...</td>\n",
              "      <td>...</td>\n",
              "      <td>...</td>\n",
              "    </tr>\n",
              "    <tr>\n",
              "      <th>332594</th>\n",
              "      <td>T_0</td>\n",
              "      <td>test_2021-03-01 02:30:02.237445</td>\n",
              "      <td>s_0</td>\n",
              "      <td>ct_0</td>\n",
              "    </tr>\n",
              "    <tr>\n",
              "      <th>332705</th>\n",
              "      <td>T_0</td>\n",
              "      <td>test_2021-03-01 02:30:02.237423</td>\n",
              "      <td>s_0</td>\n",
              "      <td>ct_1</td>\n",
              "    </tr>\n",
              "    <tr>\n",
              "      <th>332730</th>\n",
              "      <td>T_0</td>\n",
              "      <td>test_2021-03-01 02:30:02.237421</td>\n",
              "      <td>s_0</td>\n",
              "      <td>ct_1</td>\n",
              "    </tr>\n",
              "    <tr>\n",
              "      <th>333442</th>\n",
              "      <td>T_0</td>\n",
              "      <td>test_2021-03-01 02:30:02.237431</td>\n",
              "      <td>s_0</td>\n",
              "      <td>ct_1</td>\n",
              "    </tr>\n",
              "    <tr>\n",
              "      <th>335279</th>\n",
              "      <td>T_0</td>\n",
              "      <td>test_2021-03-01 02:30:02.237430</td>\n",
              "      <td>s_0</td>\n",
              "      <td>ct_0</td>\n",
              "    </tr>\n",
              "  </tbody>\n",
              "</table>\n",
              "<p>126 rows × 4 columns</p>\n",
              "</div>"
            ],
            "text/plain": [
              "       id_prod                             date session_id client_id\n",
              "34387      T_0  test_2021-03-01 02:30:02.237443        s_0      ct_0\n",
              "54813      T_0  test_2021-03-01 02:30:02.237412        s_0      ct_1\n",
              "57261      T_0  test_2021-03-01 02:30:02.237439        s_0      ct_1\n",
              "58802      T_0  test_2021-03-01 02:30:02.237429        s_0      ct_0\n",
              "60170      T_0  test_2021-03-01 02:30:02.237446        s_0      ct_0\n",
              "...        ...                              ...        ...       ...\n",
              "332594     T_0  test_2021-03-01 02:30:02.237445        s_0      ct_0\n",
              "332705     T_0  test_2021-03-01 02:30:02.237423        s_0      ct_1\n",
              "332730     T_0  test_2021-03-01 02:30:02.237421        s_0      ct_1\n",
              "333442     T_0  test_2021-03-01 02:30:02.237431        s_0      ct_1\n",
              "335279     T_0  test_2021-03-01 02:30:02.237430        s_0      ct_0\n",
              "\n",
              "[126 rows x 4 columns]"
            ]
          },
          "metadata": {
            "tags": []
          },
          "execution_count": 6
        }
      ]
    },
    {
      "cell_type": "markdown",
      "metadata": {
        "id": "LeAkPWcU3zm1",
        "colab_type": "text"
      },
      "source": [
        "On observe la présence de 126 lignes correspondant à des sessions de tests. Il faudra donc les supprimer du fichier des transactions mais aussi des autres fichiers. Il faudra enlever le produit ayant un id_prod correspond à T_0 dans le fichier des produits et les clients dont le client_id correspond à ct_0 et ct_1. "
      ]
    },
    {
      "cell_type": "markdown",
      "metadata": {
        "id": "GVT8oc9Z3zm2",
        "colab_type": "text"
      },
      "source": [
        "On supprime donc les valeurs dupliquées correspondant aux sessions test du 1er mars 2021."
      ]
    },
    {
      "cell_type": "code",
      "metadata": {
        "id": "CL_5Twjs3zm2",
        "colab_type": "code",
        "colab": {
          "base_uri": "https://localhost:8080/",
          "height": 86
        },
        "outputId": "62c7d663-ee4c-462e-89b3-2da273ad3879"
      },
      "source": [
        "pd.set_option('mode.chained_assignment', None)\n",
        "sells = sells.drop_duplicates()\n",
        "sells[duplicated_sells]"
      ],
      "execution_count": null,
      "outputs": [
        {
          "output_type": "stream",
          "text": [
            "/usr/local/lib/python3.6/dist-packages/ipykernel_launcher.py:3: UserWarning: Boolean Series key will be reindexed to match DataFrame index.\n",
            "  This is separate from the ipykernel package so we can avoid doing imports until\n"
          ],
          "name": "stderr"
        },
        {
          "output_type": "execute_result",
          "data": {
            "text/html": [
              "<div>\n",
              "<style scoped>\n",
              "    .dataframe tbody tr th:only-of-type {\n",
              "        vertical-align: middle;\n",
              "    }\n",
              "\n",
              "    .dataframe tbody tr th {\n",
              "        vertical-align: top;\n",
              "    }\n",
              "\n",
              "    .dataframe thead th {\n",
              "        text-align: right;\n",
              "    }\n",
              "</style>\n",
              "<table border=\"1\" class=\"dataframe\">\n",
              "  <thead>\n",
              "    <tr style=\"text-align: right;\">\n",
              "      <th></th>\n",
              "      <th>id_prod</th>\n",
              "      <th>date</th>\n",
              "      <th>session_id</th>\n",
              "      <th>client_id</th>\n",
              "    </tr>\n",
              "  </thead>\n",
              "  <tbody>\n",
              "  </tbody>\n",
              "</table>\n",
              "</div>"
            ],
            "text/plain": [
              "Empty DataFrame\n",
              "Columns: [id_prod, date, session_id, client_id]\n",
              "Index: []"
            ]
          },
          "metadata": {
            "tags": []
          },
          "execution_count": 7
        }
      ]
    },
    {
      "cell_type": "markdown",
      "metadata": {
        "id": "vqhQNsat3zm-",
        "colab_type": "text"
      },
      "source": [
        "Les valeurs dupliquées sont donc supprimées mais il reste encore des données de session test avec l'identifiant s_0. On va donc supprimer ces valeurs pour pouvoir faire son analyse. "
      ]
    },
    {
      "cell_type": "code",
      "metadata": {
        "id": "JguN5VkP3zm-",
        "colab_type": "code",
        "colab": {
          "base_uri": "https://localhost:8080/",
          "height": 424
        },
        "outputId": "eb981f81-7873-49f1-f1b4-e34e4106958c"
      },
      "source": [
        "# affichage des données associées aux sessions de test\n",
        "sells.loc[sells['session_id'] == 's_0']"
      ],
      "execution_count": null,
      "outputs": [
        {
          "output_type": "execute_result",
          "data": {
            "text/html": [
              "<div>\n",
              "<style scoped>\n",
              "    .dataframe tbody tr th:only-of-type {\n",
              "        vertical-align: middle;\n",
              "    }\n",
              "\n",
              "    .dataframe tbody tr th {\n",
              "        vertical-align: top;\n",
              "    }\n",
              "\n",
              "    .dataframe thead th {\n",
              "        text-align: right;\n",
              "    }\n",
              "</style>\n",
              "<table border=\"1\" class=\"dataframe\">\n",
              "  <thead>\n",
              "    <tr style=\"text-align: right;\">\n",
              "      <th></th>\n",
              "      <th>id_prod</th>\n",
              "      <th>date</th>\n",
              "      <th>session_id</th>\n",
              "      <th>client_id</th>\n",
              "    </tr>\n",
              "  </thead>\n",
              "  <tbody>\n",
              "    <tr>\n",
              "      <th>1431</th>\n",
              "      <td>T_0</td>\n",
              "      <td>test_2021-03-01 02:30:02.237420</td>\n",
              "      <td>s_0</td>\n",
              "      <td>ct_1</td>\n",
              "    </tr>\n",
              "    <tr>\n",
              "      <th>2365</th>\n",
              "      <td>T_0</td>\n",
              "      <td>test_2021-03-01 02:30:02.237446</td>\n",
              "      <td>s_0</td>\n",
              "      <td>ct_1</td>\n",
              "    </tr>\n",
              "    <tr>\n",
              "      <th>2895</th>\n",
              "      <td>T_0</td>\n",
              "      <td>test_2021-03-01 02:30:02.237414</td>\n",
              "      <td>s_0</td>\n",
              "      <td>ct_1</td>\n",
              "    </tr>\n",
              "    <tr>\n",
              "      <th>5955</th>\n",
              "      <td>T_0</td>\n",
              "      <td>test_2021-03-01 02:30:02.237441</td>\n",
              "      <td>s_0</td>\n",
              "      <td>ct_0</td>\n",
              "    </tr>\n",
              "    <tr>\n",
              "      <th>7283</th>\n",
              "      <td>T_0</td>\n",
              "      <td>test_2021-03-01 02:30:02.237434</td>\n",
              "      <td>s_0</td>\n",
              "      <td>ct_1</td>\n",
              "    </tr>\n",
              "    <tr>\n",
              "      <th>...</th>\n",
              "      <td>...</td>\n",
              "      <td>...</td>\n",
              "      <td>...</td>\n",
              "      <td>...</td>\n",
              "    </tr>\n",
              "    <tr>\n",
              "      <th>264317</th>\n",
              "      <td>T_0</td>\n",
              "      <td>test_2021-03-01 02:30:02.237416</td>\n",
              "      <td>s_0</td>\n",
              "      <td>ct_1</td>\n",
              "    </tr>\n",
              "    <tr>\n",
              "      <th>288918</th>\n",
              "      <td>T_0</td>\n",
              "      <td>test_2021-03-01 02:30:02.237415</td>\n",
              "      <td>s_0</td>\n",
              "      <td>ct_1</td>\n",
              "    </tr>\n",
              "    <tr>\n",
              "      <th>293107</th>\n",
              "      <td>T_0</td>\n",
              "      <td>test_2021-03-01 02:30:02.237421</td>\n",
              "      <td>s_0</td>\n",
              "      <td>ct_0</td>\n",
              "    </tr>\n",
              "    <tr>\n",
              "      <th>298399</th>\n",
              "      <td>T_0</td>\n",
              "      <td>test_2021-03-01 02:30:02.237423</td>\n",
              "      <td>s_0</td>\n",
              "      <td>ct_1</td>\n",
              "    </tr>\n",
              "    <tr>\n",
              "      <th>317345</th>\n",
              "      <td>T_0</td>\n",
              "      <td>test_2021-03-01 02:30:02.237448</td>\n",
              "      <td>s_0</td>\n",
              "      <td>ct_0</td>\n",
              "    </tr>\n",
              "  </tbody>\n",
              "</table>\n",
              "<p>74 rows × 4 columns</p>\n",
              "</div>"
            ],
            "text/plain": [
              "       id_prod                             date session_id client_id\n",
              "1431       T_0  test_2021-03-01 02:30:02.237420        s_0      ct_1\n",
              "2365       T_0  test_2021-03-01 02:30:02.237446        s_0      ct_1\n",
              "2895       T_0  test_2021-03-01 02:30:02.237414        s_0      ct_1\n",
              "5955       T_0  test_2021-03-01 02:30:02.237441        s_0      ct_0\n",
              "7283       T_0  test_2021-03-01 02:30:02.237434        s_0      ct_1\n",
              "...        ...                              ...        ...       ...\n",
              "264317     T_0  test_2021-03-01 02:30:02.237416        s_0      ct_1\n",
              "288918     T_0  test_2021-03-01 02:30:02.237415        s_0      ct_1\n",
              "293107     T_0  test_2021-03-01 02:30:02.237421        s_0      ct_0\n",
              "298399     T_0  test_2021-03-01 02:30:02.237423        s_0      ct_1\n",
              "317345     T_0  test_2021-03-01 02:30:02.237448        s_0      ct_0\n",
              "\n",
              "[74 rows x 4 columns]"
            ]
          },
          "metadata": {
            "tags": []
          },
          "execution_count": 8
        }
      ]
    },
    {
      "cell_type": "markdown",
      "metadata": {
        "id": "AijILIjD3znE",
        "colab_type": "text"
      },
      "source": [
        "Pour supprimer toutes les données issues des tests, on supprime toutes les sessions dont l'identifiant session vaut 's_0'. On crée donc une liste contenant les index des lignes avec l'identifiant de session s_0 puis on supprime les lignes associées à l'aide de la méthode .drop()."
      ]
    },
    {
      "cell_type": "code",
      "metadata": {
        "id": "WMXZmnum3znG",
        "colab_type": "code",
        "colab": {}
      },
      "source": [
        "index_s_0 = sells[sells['session_id'] == 's_0'].index.values\n",
        "sells.drop(index_s_0, 0, inplace=True)"
      ],
      "execution_count": null,
      "outputs": []
    },
    {
      "cell_type": "code",
      "metadata": {
        "id": "TodOxifJ3znM",
        "colab_type": "code",
        "colab": {
          "base_uri": "https://localhost:8080/",
          "height": 49
        },
        "outputId": "664f7e47-4ff8-461f-9c74-cd96d49e5aec"
      },
      "source": [
        "sells.loc[sells['session_id'] == 's_0']"
      ],
      "execution_count": null,
      "outputs": [
        {
          "output_type": "execute_result",
          "data": {
            "text/html": [
              "<div>\n",
              "<style scoped>\n",
              "    .dataframe tbody tr th:only-of-type {\n",
              "        vertical-align: middle;\n",
              "    }\n",
              "\n",
              "    .dataframe tbody tr th {\n",
              "        vertical-align: top;\n",
              "    }\n",
              "\n",
              "    .dataframe thead th {\n",
              "        text-align: right;\n",
              "    }\n",
              "</style>\n",
              "<table border=\"1\" class=\"dataframe\">\n",
              "  <thead>\n",
              "    <tr style=\"text-align: right;\">\n",
              "      <th></th>\n",
              "      <th>id_prod</th>\n",
              "      <th>date</th>\n",
              "      <th>session_id</th>\n",
              "      <th>client_id</th>\n",
              "    </tr>\n",
              "  </thead>\n",
              "  <tbody>\n",
              "  </tbody>\n",
              "</table>\n",
              "</div>"
            ],
            "text/plain": [
              "Empty DataFrame\n",
              "Columns: [id_prod, date, session_id, client_id]\n",
              "Index: []"
            ]
          },
          "metadata": {
            "tags": []
          },
          "execution_count": 10
        }
      ]
    },
    {
      "cell_type": "markdown",
      "metadata": {
        "id": "cKwGHqAK3znT",
        "colab_type": "text"
      },
      "source": [
        "### 2.3. Analyse des types"
      ]
    },
    {
      "cell_type": "markdown",
      "metadata": {
        "id": "vDASH2kl3znV",
        "colab_type": "text"
      },
      "source": [
        "Une fois ces différents nettoyages effectués, on s'intéresse aux types de données contenus dans le fichier des transactions."
      ]
    },
    {
      "cell_type": "code",
      "metadata": {
        "id": "My8ksUX63znX",
        "colab_type": "code",
        "colab": {
          "base_uri": "https://localhost:8080/"
        },
        "outputId": "68ca879d-6fb7-4589-f5da-4c5dc27c0e79"
      },
      "source": [
        "print(sells.dtypes)"
      ],
      "execution_count": null,
      "outputs": [
        {
          "output_type": "stream",
          "text": [
            "id_prod       object\n",
            "date          object\n",
            "session_id    object\n",
            "client_id     object\n",
            "dtype: object\n"
          ],
          "name": "stdout"
        }
      ]
    },
    {
      "cell_type": "markdown",
      "metadata": {
        "id": "JUGs2VkM3zna",
        "colab_type": "text"
      },
      "source": [
        "On remarque que toutes les variables sont considérées comme des objets. On peut transformer la variable 'date' en type 'datetime'."
      ]
    },
    {
      "cell_type": "code",
      "metadata": {
        "id": "wOiify0_3znb",
        "colab_type": "code",
        "colab": {
          "base_uri": "https://localhost:8080/"
        },
        "outputId": "e9188914-cfe3-4d2e-d7a3-c368b0633351"
      },
      "source": [
        "sells['date'] = pd.to_datetime(sells['date'])\n",
        "print(sells.dtypes)"
      ],
      "execution_count": null,
      "outputs": [
        {
          "output_type": "stream",
          "text": [
            "id_prod               object\n",
            "date          datetime64[ns]\n",
            "session_id            object\n",
            "client_id             object\n",
            "dtype: object\n"
          ],
          "name": "stdout"
        }
      ]
    },
    {
      "cell_type": "markdown",
      "metadata": {
        "id": "tBX-1jxv3znh",
        "colab_type": "text"
      },
      "source": [
        "Une fois cette transformation faite, il est plus simple d'organiser les données par ordre chronologique. "
      ]
    },
    {
      "cell_type": "code",
      "metadata": {
        "id": "lsfFFfC53znk",
        "colab_type": "code",
        "colab": {
          "base_uri": "https://localhost:8080/"
        },
        "outputId": "4fade301-1f96-47c2-f404-d255efae93b3"
      },
      "source": [
        "sells = sells.sort_values('date')\n",
        "sells = sells.set_index('date')\n",
        "print(sells.head())"
      ],
      "execution_count": null,
      "outputs": [
        {
          "output_type": "stream",
          "text": [
            "                           id_prod session_id client_id\n",
            "date                                                   \n",
            "2021-03-01 00:01:07.843138  0_1259        s_1     c_329\n",
            "2021-03-01 00:02:26.047414  0_1390        s_2     c_664\n",
            "2021-03-01 00:02:38.311413  0_1352        s_3     c_580\n",
            "2021-03-01 00:04:54.559692  0_1458        s_4    c_7912\n",
            "2021-03-01 00:05:18.801198  0_1358        s_5    c_2033\n"
          ],
          "name": "stdout"
        }
      ]
    },
    {
      "cell_type": "markdown",
      "metadata": {
        "id": "_oP_PW1e3znq",
        "colab_type": "text"
      },
      "source": [
        "## 3. Nettoyage des données des produits"
      ]
    },
    {
      "cell_type": "markdown",
      "metadata": {
        "id": "WRgm5s1J3znq",
        "colab_type": "text"
      },
      "source": [
        "Comme pour le fichier des transactions, on affiche les premiers lignes du fichier des produits pour pouvoir se familiariser avec ce fichier et voir sa composition."
      ]
    },
    {
      "cell_type": "code",
      "metadata": {
        "id": "8C7mgGbC3znr",
        "colab_type": "code",
        "colab": {
          "base_uri": "https://localhost:8080/"
        },
        "outputId": "1ca7a01f-19da-4320-9ee1-9b19d171bad9"
      },
      "source": [
        "print(prod.head())"
      ],
      "execution_count": null,
      "outputs": [
        {
          "output_type": "stream",
          "text": [
            "  id_prod  price  categ\n",
            "0  0_1421  19.99      0\n",
            "1  0_1368   5.13      0\n",
            "2   0_731  17.99      0\n",
            "3   1_587   4.99      1\n",
            "4  0_1507   3.99      0\n"
          ],
          "name": "stdout"
        }
      ]
    },
    {
      "cell_type": "markdown",
      "metadata": {
        "id": "oHQnjN7p3zny",
        "colab_type": "text"
      },
      "source": [
        "Ce dataframe est composé de trois colonnes contenant les identifiants des produits, les prix des produits et la catégorie d'appartenance de chacun des produits."
      ]
    },
    {
      "cell_type": "markdown",
      "metadata": {
        "id": "EeuqKbQZ3zn0",
        "colab_type": "text"
      },
      "source": [
        "### 3.1. Analyse des types dans le fichier des produits"
      ]
    },
    {
      "cell_type": "markdown",
      "metadata": {
        "id": "Q_heB8rZ3zn1",
        "colab_type": "text"
      },
      "source": [
        "On regarde le détail des types de données contenues dans le dataframe."
      ]
    },
    {
      "cell_type": "code",
      "metadata": {
        "id": "118SKCOD3zn2",
        "colab_type": "code",
        "colab": {
          "base_uri": "https://localhost:8080/"
        },
        "outputId": "90237b5c-742a-44d2-9d28-723a34e1a6ca"
      },
      "source": [
        "prod.dtypes"
      ],
      "execution_count": null,
      "outputs": [
        {
          "output_type": "execute_result",
          "data": {
            "text/plain": [
              "id_prod     object\n",
              "price      float64\n",
              "categ        int64\n",
              "dtype: object"
            ]
          },
          "metadata": {
            "tags": []
          },
          "execution_count": 15
        }
      ]
    },
    {
      "cell_type": "markdown",
      "metadata": {
        "id": "aF2SvhtR3zn6",
        "colab_type": "text"
      },
      "source": [
        "Il serait plus intéressant de modifier le type de la colonne 'categ' en une valeur catégorielle. "
      ]
    },
    {
      "cell_type": "code",
      "metadata": {
        "id": "_kB05uZl3zn7",
        "colab_type": "code",
        "colab": {
          "base_uri": "https://localhost:8080/"
        },
        "outputId": "800251d9-06f4-43f5-b1f0-dcff5e8e0059"
      },
      "source": [
        "prod['categ'] = prod['categ'].astype('category')\n",
        "prod.dtypes"
      ],
      "execution_count": null,
      "outputs": [
        {
          "output_type": "execute_result",
          "data": {
            "text/plain": [
              "id_prod      object\n",
              "price       float64\n",
              "categ      category\n",
              "dtype: object"
            ]
          },
          "metadata": {
            "tags": []
          },
          "execution_count": 16
        }
      ]
    },
    {
      "cell_type": "markdown",
      "metadata": {
        "id": "laPRiUqh3zoA",
        "colab_type": "text"
      },
      "source": [
        "On peut ainsi classer les produits par ordre de catégorie. "
      ]
    },
    {
      "cell_type": "code",
      "metadata": {
        "id": "L5Km2htc3zoB",
        "colab_type": "code",
        "colab": {
          "base_uri": "https://localhost:8080/"
        },
        "outputId": "0a69b999-bc59-4a78-d67b-b0135c02eeb1"
      },
      "source": [
        "prod = prod.sort_values('categ')\n",
        "print(prod)"
      ],
      "execution_count": null,
      "outputs": [
        {
          "output_type": "stream",
          "text": [
            "     id_prod   price categ\n",
            "0     0_1421   19.99     0\n",
            "1985   0_724   21.78     0\n",
            "1986  0_1467    4.99     0\n",
            "1988  0_1076   25.11     0\n",
            "1989  0_2211    9.99     0\n",
            "...      ...     ...   ...\n",
            "719    2_223  175.99     2\n",
            "1272     2_7   69.99     2\n",
            "1729    2_84  182.30     2\n",
            "1284   2_211  203.99     2\n",
            "2977    2_77  145.99     2\n",
            "\n",
            "[3287 rows x 3 columns]\n"
          ],
          "name": "stdout"
        }
      ]
    },
    {
      "cell_type": "markdown",
      "metadata": {
        "id": "kN4frweE3zoE",
        "colab_type": "text"
      },
      "source": [
        "### 3.2. Analyse des valeurs manquantes"
      ]
    },
    {
      "cell_type": "markdown",
      "metadata": {
        "id": "Xpx6bkpZ3zoF",
        "colab_type": "text"
      },
      "source": [
        "Après la modification des types, on s'intéresse à la présence de données manquantes qui vont prendre la forme de NaN dans notre DataFrame. Pour identifier ces valeurs, on utiliser la fonction isna() associée à sum()."
      ]
    },
    {
      "cell_type": "code",
      "metadata": {
        "id": "iAJgeNfF3zoF",
        "colab_type": "code",
        "colab": {
          "base_uri": "https://localhost:8080/"
        },
        "outputId": "366261b3-25bb-43b4-deb8-a13d75c6e44d"
      },
      "source": [
        "# Dénombrement des valeurs manquantes\n",
        "prod.isna().sum()"
      ],
      "execution_count": null,
      "outputs": [
        {
          "output_type": "execute_result",
          "data": {
            "text/plain": [
              "id_prod    False\n",
              "price      False\n",
              "categ      False\n",
              "dtype: bool"
            ]
          },
          "metadata": {
            "tags": []
          },
          "execution_count": 18
        }
      ]
    },
    {
      "cell_type": "markdown",
      "metadata": {
        "id": "1i_orXmu3zoN",
        "colab_type": "text"
      },
      "source": [
        "Le DataFrame des produits ne contient aucune donnée manquante. "
      ]
    },
    {
      "cell_type": "markdown",
      "metadata": {
        "id": "Ma8KEfPb3zoO",
        "colab_type": "text"
      },
      "source": [
        "### 3.3. Analyse des valeurs dupliquées"
      ]
    },
    {
      "cell_type": "markdown",
      "metadata": {
        "id": "m-jW7YJ33zoQ",
        "colab_type": "text"
      },
      "source": [
        "Ensuite, on s'intéresse au valeur dupliquée. On crée une variable qui va contenir les valeurs dupliquées dans notre table pour pouvoir les isoler et voir la forme de ces valeurs dupliquées."
      ]
    },
    {
      "cell_type": "code",
      "metadata": {
        "id": "a9xIpFcI3zoR",
        "colab_type": "code",
        "colab": {
          "base_uri": "https://localhost:8080/"
        },
        "outputId": "55d257a9-46f3-4520-ceff-c442f715055d"
      },
      "source": [
        "duplicated = prod.duplicated()\n",
        "prod[duplicated]"
      ],
      "execution_count": null,
      "outputs": [
        {
          "output_type": "execute_result",
          "data": {
            "text/html": [
              "<div>\n",
              "<style scoped>\n",
              "    .dataframe tbody tr th:only-of-type {\n",
              "        vertical-align: middle;\n",
              "    }\n",
              "\n",
              "    .dataframe tbody tr th {\n",
              "        vertical-align: top;\n",
              "    }\n",
              "\n",
              "    .dataframe thead th {\n",
              "        text-align: right;\n",
              "    }\n",
              "</style>\n",
              "<table border=\"1\" class=\"dataframe\">\n",
              "  <thead>\n",
              "    <tr style=\"text-align: right;\">\n",
              "      <th></th>\n",
              "      <th>id_prod</th>\n",
              "      <th>price</th>\n",
              "      <th>categ</th>\n",
              "    </tr>\n",
              "  </thead>\n",
              "  <tbody>\n",
              "  </tbody>\n",
              "</table>\n",
              "</div>"
            ],
            "text/plain": [
              "Empty DataFrame\n",
              "Columns: [id_prod, price, categ]\n",
              "Index: []"
            ]
          },
          "metadata": {
            "tags": []
          },
          "execution_count": 19
        }
      ]
    },
    {
      "cell_type": "markdown",
      "metadata": {
        "id": "xr1-1KKU3zoW",
        "colab_type": "text"
      },
      "source": [
        "Le DataFrame prod ne présente pas de valeur dupliqué. On peut donc le laisser ainsi. "
      ]
    },
    {
      "cell_type": "markdown",
      "metadata": {
        "id": "viTkjAdK3zoW",
        "colab_type": "text"
      },
      "source": [
        "### 3.4. Suppression du produit T_0"
      ]
    },
    {
      "cell_type": "markdown",
      "metadata": {
        "id": "MRuscKBi3zoW",
        "colab_type": "text"
      },
      "source": [
        "En effectuant le nettoyage du fichier des transactions, on a observé la présence d'un produit dont la valeur était T_0. Sachant que les données associées aux sessions test ont été supprimé dans le fichier des transactions, il peut être intéressant de supprimer ce produit T_0 pour ne pas fausser les analyses qui suivront. "
      ]
    },
    {
      "cell_type": "code",
      "metadata": {
        "id": "ubCkWtLW3zoX",
        "colab_type": "code",
        "colab": {
          "base_uri": "https://localhost:8080/"
        },
        "outputId": "62ca882e-5fab-4e8b-9f6f-342933dca41f"
      },
      "source": [
        "t_0 = prod.loc[prod['id_prod'] == 'T_0']\n",
        "print(t_0)"
      ],
      "execution_count": null,
      "outputs": [
        {
          "output_type": "stream",
          "text": [
            "    id_prod  price categ\n",
            "731     T_0   -1.0     0\n"
          ],
          "name": "stdout"
        }
      ]
    },
    {
      "cell_type": "markdown",
      "metadata": {
        "id": "qSH8DgAz3zoc",
        "colab_type": "text"
      },
      "source": [
        "Maintenant que l'on a identifié ce produit T_0, on va pouvoir le supprimer du fichier en utilisant la méthode .drop."
      ]
    },
    {
      "cell_type": "code",
      "metadata": {
        "id": "66US1lpf3zod",
        "colab_type": "code",
        "colab": {}
      },
      "source": [
        "prod.drop(731, 0, inplace=True)"
      ],
      "execution_count": null,
      "outputs": []
    },
    {
      "cell_type": "markdown",
      "metadata": {
        "id": "0RyAVyfz3zog",
        "colab_type": "text"
      },
      "source": [
        "On vérifie que la donnée a été supprimé du fichier des produits. "
      ]
    },
    {
      "cell_type": "code",
      "metadata": {
        "id": "OALOM_nz3zoh",
        "colab_type": "code",
        "colab": {
          "base_uri": "https://localhost:8080/"
        },
        "outputId": "f63be7c3-cd8a-4a3e-a717-d3be511047cf"
      },
      "source": [
        "t_0 = prod.loc[prod['id_prod'] == 'T_0']\n",
        "print(t_0)"
      ],
      "execution_count": null,
      "outputs": [
        {
          "output_type": "stream",
          "text": [
            "Empty DataFrame\n",
            "Columns: [id_prod, price, categ]\n",
            "Index: []\n"
          ],
          "name": "stdout"
        }
      ]
    },
    {
      "cell_type": "markdown",
      "metadata": {
        "id": "N4MpSEqA3zol",
        "colab_type": "text"
      },
      "source": [
        "## 4. Nettoyage des données des clients"
      ]
    },
    {
      "cell_type": "markdown",
      "metadata": {
        "id": "wxUJhoAf3zom",
        "colab_type": "text"
      },
      "source": [
        "Concernant le fichier client, la méthode sera la même que pour les produits. On commence d'abord par afficher les premières lignes du DataFrame ainsi que les types pour voir la composition de celui-ci. "
      ]
    },
    {
      "cell_type": "code",
      "metadata": {
        "id": "a77zYwla3zom",
        "colab_type": "code",
        "colab": {
          "base_uri": "https://localhost:8080/",
          "height": 126
        },
        "outputId": "9eee7378-1d1b-4854-e2f8-e6098e085035"
      },
      "source": [
        "print(custom.head())"
      ],
      "execution_count": null,
      "outputs": [
        {
          "output_type": "stream",
          "text": [
            "  client_id sex  birth\n",
            "0    c_4410   f   1967\n",
            "1    c_7839   f   1975\n",
            "2    c_1699   f   1984\n",
            "3    c_5961   f   1962\n",
            "4    c_5320   m   1943\n"
          ],
          "name": "stdout"
        }
      ]
    },
    {
      "cell_type": "markdown",
      "metadata": {
        "id": "q3vSTi393zop",
        "colab_type": "text"
      },
      "source": [
        "Ce Dataframe est lui aussi composé de trois colonnes contenant les identifiants des clients, le sexe et l'année de naissance des clients. "
      ]
    },
    {
      "cell_type": "markdown",
      "metadata": {
        "id": "OXBvz2Rh3zoq",
        "colab_type": "text"
      },
      "source": [
        "### 4.1. Analyse des types"
      ]
    },
    {
      "cell_type": "markdown",
      "metadata": {
        "id": "OUVOFs2u3zor",
        "colab_type": "text"
      },
      "source": [
        "On s'intéresse ensuite aux types des données présents dans le fichier client."
      ]
    },
    {
      "cell_type": "code",
      "metadata": {
        "id": "WxeQ_6eD3zor",
        "colab_type": "code",
        "colab": {
          "base_uri": "https://localhost:8080/"
        },
        "outputId": "ce400f6a-61a4-4721-c68a-f2735ed5c037"
      },
      "source": [
        "print(custom.dtypes)"
      ],
      "execution_count": null,
      "outputs": [
        {
          "output_type": "stream",
          "text": [
            "client_id    object\n",
            "sex          object\n",
            "birth         int64\n",
            "dtype: object\n"
          ],
          "name": "stdout"
        }
      ]
    },
    {
      "cell_type": "markdown",
      "metadata": {
        "id": "Sqe5ETWW3zou",
        "colab_type": "text"
      },
      "source": [
        "La variable 'sex' apparaît comme un objet, il peut être plus intéressant de changer ce type en variable catégorielle. "
      ]
    },
    {
      "cell_type": "code",
      "metadata": {
        "id": "gK2Sk5SO3zov",
        "colab_type": "code",
        "colab": {
          "base_uri": "https://localhost:8080/"
        },
        "outputId": "981d6dde-6f91-4f62-8af7-e20d9e431e85"
      },
      "source": [
        "custom['sex'] = custom['sex'].astype('category')\n",
        "custom.dtypes"
      ],
      "execution_count": null,
      "outputs": [
        {
          "output_type": "execute_result",
          "data": {
            "text/plain": [
              "client_id      object\n",
              "sex          category\n",
              "birth           int64\n",
              "dtype: object"
            ]
          },
          "metadata": {
            "tags": []
          },
          "execution_count": 25
        }
      ]
    },
    {
      "cell_type": "markdown",
      "metadata": {
        "id": "Xg1rUzAc3zoy",
        "colab_type": "text"
      },
      "source": [
        "### 4.2. Analyse des données manquantes"
      ]
    },
    {
      "cell_type": "markdown",
      "metadata": {
        "id": "PkI53jxo3zoz",
        "colab_type": "text"
      },
      "source": [
        "On cherche la présence de valeurs manquantes (NaN) dans le fichier client. "
      ]
    },
    {
      "cell_type": "code",
      "metadata": {
        "id": "NTRG4_6U3zoz",
        "colab_type": "code",
        "colab": {
          "base_uri": "https://localhost:8080/"
        },
        "outputId": "15b1ecd0-e124-4cd6-ca4d-f9fad3ef15d1"
      },
      "source": [
        "custom.isna().sum()"
      ],
      "execution_count": null,
      "outputs": [
        {
          "output_type": "execute_result",
          "data": {
            "text/plain": [
              "client_id    False\n",
              "sex          False\n",
              "birth        False\n",
              "dtype: bool"
            ]
          },
          "metadata": {
            "tags": []
          },
          "execution_count": 26
        }
      ]
    },
    {
      "cell_type": "markdown",
      "metadata": {
        "id": "xigPki203zo4",
        "colab_type": "text"
      },
      "source": [
        "Le fichier client ne présente pas de données manquantes."
      ]
    },
    {
      "cell_type": "markdown",
      "metadata": {
        "id": "AHRJiMpA3zo5",
        "colab_type": "text"
      },
      "source": [
        "### 4.3. Analyse des données dupliquées"
      ]
    },
    {
      "cell_type": "markdown",
      "metadata": {
        "id": "Hzy55DmO3zo6",
        "colab_type": "text"
      },
      "source": [
        "On regarde la présence de données dupliquées et on les stocke dans une variable que l'on nomme duplicated_custom."
      ]
    },
    {
      "cell_type": "code",
      "metadata": {
        "id": "5I3pmfa43zo7",
        "colab_type": "code",
        "colab": {
          "base_uri": "https://localhost:8080/"
        },
        "outputId": "7044685a-8f67-4a4a-b0ff-8bb31722a528"
      },
      "source": [
        "duplicated_custom = custom.duplicated()\n",
        "custom[duplicated_custom]"
      ],
      "execution_count": null,
      "outputs": [
        {
          "output_type": "execute_result",
          "data": {
            "text/html": [
              "<div>\n",
              "<style scoped>\n",
              "    .dataframe tbody tr th:only-of-type {\n",
              "        vertical-align: middle;\n",
              "    }\n",
              "\n",
              "    .dataframe tbody tr th {\n",
              "        vertical-align: top;\n",
              "    }\n",
              "\n",
              "    .dataframe thead th {\n",
              "        text-align: right;\n",
              "    }\n",
              "</style>\n",
              "<table border=\"1\" class=\"dataframe\">\n",
              "  <thead>\n",
              "    <tr style=\"text-align: right;\">\n",
              "      <th></th>\n",
              "      <th>client_id</th>\n",
              "      <th>sex</th>\n",
              "      <th>birth</th>\n",
              "    </tr>\n",
              "  </thead>\n",
              "  <tbody>\n",
              "  </tbody>\n",
              "</table>\n",
              "</div>"
            ],
            "text/plain": [
              "Empty DataFrame\n",
              "Columns: [client_id, sex, birth]\n",
              "Index: []"
            ]
          },
          "metadata": {
            "tags": []
          },
          "execution_count": 27
        }
      ]
    },
    {
      "cell_type": "markdown",
      "metadata": {
        "id": "8PelBYsa3zo-",
        "colab_type": "text"
      },
      "source": [
        "Ce DataFrame ne contient pas de données dupliquées. "
      ]
    },
    {
      "cell_type": "markdown",
      "metadata": {
        "id": "6D5NdEdr3zo_",
        "colab_type": "text"
      },
      "source": [
        "### 4.4. Suppresion des clients ct_0 et ct_1"
      ]
    },
    {
      "cell_type": "markdown",
      "metadata": {
        "id": "uUuPgvOO3zo_",
        "colab_type": "text"
      },
      "source": [
        "Lors du nettoyage du fichier des transactions, on avait vu apparaître des clients associés à des sessions de test. Ces clients possédaient les identifiants ct_0 et ct_1. On va donc supprimer ces deux clients pour ne pas fausser les analyses qui suivront."
      ]
    },
    {
      "cell_type": "code",
      "metadata": {
        "id": "Pt-CKYew3zo_",
        "colab_type": "code",
        "colab": {
          "base_uri": "https://localhost:8080/"
        },
        "outputId": "a88a861a-58e3-400b-80e9-6a2ce9980db7"
      },
      "source": [
        "ct_0 = custom.loc[custom['client_id'] == 'ct_0']\n",
        "ct_1 = custom.loc[custom['client_id'] == 'ct_1']\n",
        "print(ct_0)\n",
        "print(ct_1)"
      ],
      "execution_count": null,
      "outputs": [
        {
          "output_type": "stream",
          "text": [
            "     client_id sex  birth\n",
            "2735      ct_0   f   2001\n",
            "     client_id sex  birth\n",
            "8494      ct_1   m   2001\n"
          ],
          "name": "stdout"
        }
      ]
    },
    {
      "cell_type": "markdown",
      "metadata": {
        "id": "vJaD37YZ3zpC",
        "colab_type": "text"
      },
      "source": [
        "On supprime ces deux valeurs en utilisant la méthode .drop(). "
      ]
    },
    {
      "cell_type": "code",
      "metadata": {
        "id": "n6ZrLetB3zpC",
        "colab_type": "code",
        "colab": {
          "base_uri": "https://localhost:8080/"
        },
        "outputId": "a6a35c28-7d36-46f9-9238-3f83eb7b48e5"
      },
      "source": [
        "custom.drop([2735, 8494], 0, inplace=True)\n",
        "custom.sort_values('client_id')"
      ],
      "execution_count": null,
      "outputs": [
        {
          "output_type": "execute_result",
          "data": {
            "text/html": [
              "<div>\n",
              "<style scoped>\n",
              "    .dataframe tbody tr th:only-of-type {\n",
              "        vertical-align: middle;\n",
              "    }\n",
              "\n",
              "    .dataframe tbody tr th {\n",
              "        vertical-align: top;\n",
              "    }\n",
              "\n",
              "    .dataframe thead th {\n",
              "        text-align: right;\n",
              "    }\n",
              "</style>\n",
              "<table border=\"1\" class=\"dataframe\">\n",
              "  <thead>\n",
              "    <tr style=\"text-align: right;\">\n",
              "      <th></th>\n",
              "      <th>client_id</th>\n",
              "      <th>sex</th>\n",
              "      <th>birth</th>\n",
              "    </tr>\n",
              "  </thead>\n",
              "  <tbody>\n",
              "    <tr>\n",
              "      <th>4299</th>\n",
              "      <td>c_1</td>\n",
              "      <td>m</td>\n",
              "      <td>1955</td>\n",
              "    </tr>\n",
              "    <tr>\n",
              "      <th>6894</th>\n",
              "      <td>c_10</td>\n",
              "      <td>m</td>\n",
              "      <td>1956</td>\n",
              "    </tr>\n",
              "    <tr>\n",
              "      <th>2137</th>\n",
              "      <td>c_100</td>\n",
              "      <td>m</td>\n",
              "      <td>1992</td>\n",
              "    </tr>\n",
              "    <tr>\n",
              "      <th>8472</th>\n",
              "      <td>c_1000</td>\n",
              "      <td>f</td>\n",
              "      <td>1966</td>\n",
              "    </tr>\n",
              "    <tr>\n",
              "      <th>3426</th>\n",
              "      <td>c_1001</td>\n",
              "      <td>m</td>\n",
              "      <td>1982</td>\n",
              "    </tr>\n",
              "    <tr>\n",
              "      <th>...</th>\n",
              "      <td>...</td>\n",
              "      <td>...</td>\n",
              "      <td>...</td>\n",
              "    </tr>\n",
              "    <tr>\n",
              "      <th>7004</th>\n",
              "      <td>c_995</td>\n",
              "      <td>m</td>\n",
              "      <td>1955</td>\n",
              "    </tr>\n",
              "    <tr>\n",
              "      <th>2788</th>\n",
              "      <td>c_996</td>\n",
              "      <td>f</td>\n",
              "      <td>1970</td>\n",
              "    </tr>\n",
              "    <tr>\n",
              "      <th>94</th>\n",
              "      <td>c_997</td>\n",
              "      <td>f</td>\n",
              "      <td>1994</td>\n",
              "    </tr>\n",
              "    <tr>\n",
              "      <th>2145</th>\n",
              "      <td>c_998</td>\n",
              "      <td>m</td>\n",
              "      <td>2001</td>\n",
              "    </tr>\n",
              "    <tr>\n",
              "      <th>7358</th>\n",
              "      <td>c_999</td>\n",
              "      <td>m</td>\n",
              "      <td>1964</td>\n",
              "    </tr>\n",
              "  </tbody>\n",
              "</table>\n",
              "<p>8621 rows × 3 columns</p>\n",
              "</div>"
            ],
            "text/plain": [
              "     client_id sex  birth\n",
              "4299       c_1   m   1955\n",
              "6894      c_10   m   1956\n",
              "2137     c_100   m   1992\n",
              "8472    c_1000   f   1966\n",
              "3426    c_1001   m   1982\n",
              "...        ...  ..    ...\n",
              "7004     c_995   m   1955\n",
              "2788     c_996   f   1970\n",
              "94       c_997   f   1994\n",
              "2145     c_998   m   2001\n",
              "7358     c_999   m   1964\n",
              "\n",
              "[8621 rows x 3 columns]"
            ]
          },
          "metadata": {
            "tags": []
          },
          "execution_count": 29
        }
      ]
    },
    {
      "cell_type": "markdown",
      "metadata": {
        "id": "gtVLjUii3zpO",
        "colab_type": "text"
      },
      "source": [
        "## 5. Analyse et croisement avec les autres DataFrames"
      ]
    },
    {
      "cell_type": "markdown",
      "metadata": {
        "id": "ZM8IDYIz3zpO",
        "colab_type": "text"
      },
      "source": [
        "On cherche ensuite si des id_prod sont présents dans les ventes mais pas dans le fichier produit. Si c'est le cas, on supprime ce produit car il ne possède pas de prix. On fait de même avec les client_id. POur cela, on crée deux colonnes contenant des booléans permettant de vérifier la présence de ces anomalies."
      ]
    },
    {
      "cell_type": "code",
      "metadata": {
        "id": "Q7nM-a5K3zpP",
        "colab_type": "code",
        "colab": {
          "base_uri": "https://localhost:8080/",
          "height": 181
        },
        "outputId": "a1efa7e9-1eb2-4098-f287-8080ecda48d6"
      },
      "source": [
        "sells['id_prod_prod'] = sells['id_prod'].isin(prod['id_prod'])\n",
        "sells['client_id_custom'] = sells['client_id'].isin(custom['client_id'])\n",
        "print(sells.head())"
      ],
      "execution_count": null,
      "outputs": [
        {
          "output_type": "stream",
          "text": [
            "                           id_prod session_id  ... id_prod_prod  client_id_custom\n",
            "date                                           ...                               \n",
            "2021-03-01 00:01:07.843138  0_1259        s_1  ...         True              True\n",
            "2021-03-01 00:02:26.047414  0_1390        s_2  ...         True              True\n",
            "2021-03-01 00:02:38.311413  0_1352        s_3  ...         True              True\n",
            "2021-03-01 00:04:54.559692  0_1458        s_4  ...         True              True\n",
            "2021-03-01 00:05:18.801198  0_1358        s_5  ...         True              True\n",
            "\n",
            "[5 rows x 5 columns]\n"
          ],
          "name": "stdout"
        }
      ]
    },
    {
      "cell_type": "markdown",
      "metadata": {
        "id": "zwXS_-t93zpS",
        "colab_type": "text"
      },
      "source": [
        "On affiche les produits pour lesquels la variable id_prod_prod vaut False. Cela signifie que ce code produit se trouve uniquement dans les ventes mais pas dans les produits. "
      ]
    },
    {
      "cell_type": "code",
      "metadata": {
        "id": "6Nt56QMD3zpT",
        "colab_type": "code",
        "colab": {
          "base_uri": "https://localhost:8080/",
          "height": 72
        },
        "outputId": "06b6e84e-be4f-45db-d7ed-517ce4de9128"
      },
      "source": [
        "id_prod_false = sells[sells['id_prod_prod'] == False]\n",
        "id_prod_false = id_prod_false.groupby('id_prod').mean()\n",
        "print(id_prod_false)"
      ],
      "execution_count": null,
      "outputs": [
        {
          "output_type": "stream",
          "text": [
            "         id_prod_prod  client_id_custom\n",
            "id_prod                                \n",
            "0_2245          False              True\n"
          ],
          "name": "stdout"
        }
      ]
    },
    {
      "cell_type": "markdown",
      "metadata": {
        "id": "aQ3HY9ep3zpW",
        "colab_type": "text"
      },
      "source": [
        "On remarque que cela concerne uniquement un produit avec l'identifiant '0_2245'.  "
      ]
    },
    {
      "cell_type": "code",
      "metadata": {
        "id": "sgZw4m5I3zpX",
        "colab_type": "code",
        "colab": {
          "base_uri": "https://localhost:8080/",
          "height": 72
        },
        "outputId": "d78d3122-a7d9-4081-de6a-4c7421084331"
      },
      "source": [
        "prod_0_2245 = prod.loc[prod['id_prod'] == '0_2245']\n",
        "print(prod_0_2245)"
      ],
      "execution_count": null,
      "outputs": [
        {
          "output_type": "stream",
          "text": [
            "Empty DataFrame\n",
            "Columns: [id_prod, price, categ]\n",
            "Index: []\n"
          ],
          "name": "stdout"
        }
      ]
    },
    {
      "cell_type": "markdown",
      "metadata": {
        "id": "gM0z690j3zpa",
        "colab_type": "text"
      },
      "source": [
        "Après vérification dans le DataFrame des produits, il n'existe pas de produit avec cet identifiant. On peut donc essayer d'imputer la valeur de ce produit en lui donnant la moyenne des prix de sa catégorie. "
      ]
    },
    {
      "cell_type": "markdown",
      "metadata": {
        "id": "fxeU10qI3zpa",
        "colab_type": "text"
      },
      "source": [
        "On répète les étapes précédentes pour repérer la présence de client existants dans les sessions de vente mais qui ne sont pas existants dans le fichier."
      ]
    },
    {
      "cell_type": "code",
      "metadata": {
        "id": "uuynefBs3zpa",
        "colab_type": "code",
        "colab": {
          "base_uri": "https://localhost:8080/",
          "height": 72
        },
        "outputId": "e36c964a-4c5c-4075-ab92-a578b7902068"
      },
      "source": [
        "id_client_false = sells[sells['client_id_custom'] == False]\n",
        "id_client_false = id_client_false.groupby('client_id_custom').mean()\n",
        "print(id_client_false)"
      ],
      "execution_count": null,
      "outputs": [
        {
          "output_type": "stream",
          "text": [
            "Empty DataFrame\n",
            "Columns: [id_prod_prod]\n",
            "Index: []\n"
          ],
          "name": "stdout"
        }
      ]
    },
    {
      "cell_type": "markdown",
      "metadata": {
        "id": "HU_z-6b03zpd",
        "colab_type": "text"
      },
      "source": [
        "Il n'y a pas de valeur 'False', on ne supprime pas de ligne pour cette condition. "
      ]
    },
    {
      "cell_type": "markdown",
      "metadata": {
        "id": "hYelL_7u3zpe",
        "colab_type": "text"
      },
      "source": [
        "On calcule donc la moyenne des prix des produits de catégorie. "
      ]
    },
    {
      "cell_type": "code",
      "metadata": {
        "id": "Y1OeRsFt3zpf",
        "colab_type": "code",
        "colab": {
          "base_uri": "https://localhost:8080/",
          "height": 35
        },
        "outputId": "22c63e09-391a-4b00-be13-e7f1b7e7eb11"
      },
      "source": [
        "transactions = pd.merge(sells, prod, on=['id_prod']) \n",
        "transactions = pd.pivot_table(index='id_prod', columns='categ', values='price', aggfunc=np.mean, data=transactions)\n",
        "moy_cat0 = transactions[0].mean(skipna=True)\n",
        "print('Prix moyen dans la catégorie 0:', moy_cat0)"
      ],
      "execution_count": null,
      "outputs": [
        {
          "output_type": "stream",
          "text": [
            "Prix moyen dans la catégorie 0: 11.718568310781567\n"
          ],
          "name": "stdout"
        }
      ]
    },
    {
      "cell_type": "markdown",
      "metadata": {
        "id": "oQPTrQuk3zpi",
        "colab_type": "text"
      },
      "source": [
        "On ajoute donc une nouvelle ligne au fichier des produits pour y ajouter le produit 0_2245 avec un prix de 11.71.  "
      ]
    },
    {
      "cell_type": "code",
      "metadata": {
        "id": "KxHtgK7c3zpj",
        "colab_type": "code",
        "colab": {
          "base_uri": "https://localhost:8080/",
          "height": 126
        },
        "outputId": "66485906-8cab-4343-a6a2-02c06fd3b9f1"
      },
      "source": [
        "prod = prod.sort_index()\n",
        "print(prod.tail())"
      ],
      "execution_count": null,
      "outputs": [
        {
          "output_type": "stream",
          "text": [
            "     id_prod   price categ\n",
            "3282    2_23  115.99     2\n",
            "3283   0_146   17.14     0\n",
            "3284   0_802   11.22     0\n",
            "3285   1_140   38.56     1\n",
            "3286  0_1920   25.16     0\n"
          ],
          "name": "stdout"
        }
      ]
    },
    {
      "cell_type": "code",
      "metadata": {
        "id": "0NuXPV0X3zpm",
        "colab_type": "code",
        "colab": {
          "base_uri": "https://localhost:8080/",
          "height": 126
        },
        "outputId": "9d2cef23-53af-4356-955a-3a2af5860acf"
      },
      "source": [
        "prod.loc[3287] = {'id_prod' : '0_2245', 'price' : 11.71, 'categ' : 0}\n",
        "print(prod.tail())"
      ],
      "execution_count": null,
      "outputs": [
        {
          "output_type": "stream",
          "text": [
            "     id_prod  price  categ\n",
            "3283   0_146  17.14      0\n",
            "3284   0_802  11.22      0\n",
            "3285   1_140  38.56      1\n",
            "3286  0_1920  25.16      0\n",
            "3287  0_2245  11.71      0\n"
          ],
          "name": "stdout"
        }
      ]
    },
    {
      "cell_type": "markdown",
      "metadata": {
        "id": "qN77ZX1P3zpo",
        "colab_type": "text"
      },
      "source": [
        "Les ventes associées à ce produit ont bien été ajoutés à ce fichier. On va pouvoir l'importer de cette manière pour pouvoir faire l'analyse des ventes."
      ]
    },
    {
      "cell_type": "code",
      "metadata": {
        "id": "DtMLBEkU3zpp",
        "colab_type": "code",
        "colab": {}
      },
      "source": [
        "sells = sells.drop(columns=['client_id_custom', 'id_prod_prod'])"
      ],
      "execution_count": null,
      "outputs": []
    },
    {
      "cell_type": "markdown",
      "metadata": {
        "id": "ewH4dHnE9_4e",
        "colab_type": "text"
      },
      "source": [
        "L'analyse du top 10 montre 4 clients qui se détache largement des autres. Ces outliers pouvant entraîner des anomalies lors de l'analyse des corrélations, le choix a été fait de les supprimer lors du nettoyage des données. "
      ]
    },
    {
      "cell_type": "code",
      "metadata": {
        "id": "juAFkGIt359v",
        "colab_type": "code",
        "colab": {
          "base_uri": "https://localhost:8080/",
          "height": 217
        },
        "outputId": "6ecdb162-7ada-4a3e-c05a-b32c63420bed"
      },
      "source": [
        "df = pd.merge(sells, custom, on='client_id')\n",
        "df = pd.merge(df, prod, on = 'id_prod')\n",
        "df['count'] = 1\n",
        "df = df.groupby('client_id').sum().reset_index()\n",
        "df = df.sort_values('count', ascending=False)\n",
        "df = df[['client_id', 'count']]\n",
        "df = pd.merge(df, custom, on='client_id')\n",
        "df = df.sort_values('count', ascending=False)\n",
        "top_10 = df.iloc[0:10]\n",
        "print(top_10)"
      ],
      "execution_count": null,
      "outputs": [
        {
          "output_type": "stream",
          "text": [
            "   client_id  count sex  birth\n",
            "0     c_1609  12855   m   1980\n",
            "1     c_6714   4473   f   1968\n",
            "2     c_3454   3275   m   1969\n",
            "3     c_4958   2562   m   1999\n",
            "4     c_2140    195   f   1977\n",
            "5     c_7959    195   f   1974\n",
            "6     c_8026    193   m   1978\n",
            "7     c_2595    193   m   1974\n",
            "8     c_3725    190   f   1980\n",
            "10    c_8392    189   f   1978\n"
          ],
          "name": "stdout"
        }
      ]
    },
    {
      "cell_type": "code",
      "metadata": {
        "id": "4bmuuU1-75an",
        "colab_type": "code",
        "colab": {}
      },
      "source": [
        "mask = sells.loc[(sells['client_id'] == 'c_1609') | (sells['client_id'] =='c_6714') | (sells['client_id'] =='c_3454') | (sells['client_id'] =='c_4958')]\n",
        "outliers = mask.index.tolist()\n",
        "sells = sells.drop(outliers)"
      ],
      "execution_count": null,
      "outputs": []
    },
    {
      "cell_type": "markdown",
      "metadata": {
        "id": "9yLiP8sa3zpr",
        "colab_type": "text"
      },
      "source": [
        "Une fois les corrections faites, on enregistre le fichier pour l'étape de l'analyse. "
      ]
    },
    {
      "cell_type": "markdown",
      "metadata": {
        "id": "TfhN5neR3zps",
        "colab_type": "text"
      },
      "source": [
        "## 6. Enregistrements des fichiers nettoyés"
      ]
    },
    {
      "cell_type": "markdown",
      "metadata": {
        "id": "4IbSG2ie3zpt",
        "colab_type": "text"
      },
      "source": [
        "Une fois le nettoyage des fichiers terminés, on les enregistre pour pouvoir avoir accès aux fichiers d'origine si on remarque un problème lors de l'analyse. Les fichiers source sont conservés dans un dossier 'source' qui se retrouven dans le chemin d'appel du début de ce script. "
      ]
    },
    {
      "cell_type": "code",
      "metadata": {
        "id": "KyZumsiC3zpt",
        "colab_type": "code",
        "colab": {}
      },
      "source": [
        "sells.to_csv('/content/drive/My Drive/Formation Data Analyst/Livrables/P4_guillot_cecile/sells.csv')"
      ],
      "execution_count": null,
      "outputs": []
    },
    {
      "cell_type": "code",
      "metadata": {
        "id": "u7Ba2cG-3zpw",
        "colab_type": "code",
        "colab": {}
      },
      "source": [
        "prod.to_csv('/content/drive/My Drive/Formation Data Analyst/Livrables/P4_guillot_cecile/prod.csv')"
      ],
      "execution_count": null,
      "outputs": []
    },
    {
      "cell_type": "code",
      "metadata": {
        "id": "ldhhDLH53zp0",
        "colab_type": "code",
        "colab": {}
      },
      "source": [
        "custom.to_csv('/content/drive/My Drive/Formation Data Analyst/Livrables/P4_guillot_cecile/custom.csv')"
      ],
      "execution_count": null,
      "outputs": []
    },
    {
      "cell_type": "markdown",
      "metadata": {
        "id": "iF3zf5--3zp4",
        "colab_type": "text"
      },
      "source": [
        "## 7. Analyses complémentaires concernant le mois d'octobre"
      ]
    },
    {
      "cell_type": "markdown",
      "metadata": {
        "id": "is4Vb5Cw3zp4",
        "colab_type": "text"
      },
      "source": [
        "Après une analyse du chiffre d'affaire, on observe une anomalie pour le mois d'octobre. On va donc se pencher sur les ventes du mois d'octobre pour pouvoir expliquer cette anomalie. "
      ]
    },
    {
      "cell_type": "code",
      "metadata": {
        "id": "CN4ZGC983zp4",
        "colab_type": "code",
        "colab": {
          "base_uri": "https://localhost:8080/",
          "height": 206
        },
        "outputId": "42cea1ca-ac76-46ee-e07f-904390fdc248"
      },
      "source": [
        "sells = sells.reset_index()\n",
        "sells_2 = pd.merge(sells, prod, on = ['id_prod'])\n",
        "sells_2.head()"
      ],
      "execution_count": null,
      "outputs": [
        {
          "output_type": "execute_result",
          "data": {
            "text/html": [
              "<div>\n",
              "<style scoped>\n",
              "    .dataframe tbody tr th:only-of-type {\n",
              "        vertical-align: middle;\n",
              "    }\n",
              "\n",
              "    .dataframe tbody tr th {\n",
              "        vertical-align: top;\n",
              "    }\n",
              "\n",
              "    .dataframe thead th {\n",
              "        text-align: right;\n",
              "    }\n",
              "</style>\n",
              "<table border=\"1\" class=\"dataframe\">\n",
              "  <thead>\n",
              "    <tr style=\"text-align: right;\">\n",
              "      <th></th>\n",
              "      <th>date</th>\n",
              "      <th>id_prod</th>\n",
              "      <th>session_id</th>\n",
              "      <th>client_id</th>\n",
              "      <th>price</th>\n",
              "      <th>categ</th>\n",
              "    </tr>\n",
              "  </thead>\n",
              "  <tbody>\n",
              "    <tr>\n",
              "      <th>0</th>\n",
              "      <td>2021-03-01 00:01:07.843138</td>\n",
              "      <td>0_1259</td>\n",
              "      <td>s_1</td>\n",
              "      <td>c_329</td>\n",
              "      <td>11.99</td>\n",
              "      <td>0</td>\n",
              "    </tr>\n",
              "    <tr>\n",
              "      <th>1</th>\n",
              "      <td>2021-03-01 10:27:10.675023</td>\n",
              "      <td>0_1259</td>\n",
              "      <td>s_202</td>\n",
              "      <td>c_1599</td>\n",
              "      <td>11.99</td>\n",
              "      <td>0</td>\n",
              "    </tr>\n",
              "    <tr>\n",
              "      <th>2</th>\n",
              "      <td>2021-03-05 13:32:43.907997</td>\n",
              "      <td>0_1259</td>\n",
              "      <td>s_2114</td>\n",
              "      <td>c_107</td>\n",
              "      <td>11.99</td>\n",
              "      <td>0</td>\n",
              "    </tr>\n",
              "    <tr>\n",
              "      <th>3</th>\n",
              "      <td>2021-03-07 09:47:05.272864</td>\n",
              "      <td>0_1259</td>\n",
              "      <td>s_2976</td>\n",
              "      <td>c_4215</td>\n",
              "      <td>11.99</td>\n",
              "      <td>0</td>\n",
              "    </tr>\n",
              "    <tr>\n",
              "      <th>4</th>\n",
              "      <td>2021-03-09 21:26:58.585264</td>\n",
              "      <td>0_1259</td>\n",
              "      <td>s_4088</td>\n",
              "      <td>c_174</td>\n",
              "      <td>11.99</td>\n",
              "      <td>0</td>\n",
              "    </tr>\n",
              "  </tbody>\n",
              "</table>\n",
              "</div>"
            ],
            "text/plain": [
              "                        date id_prod session_id client_id  price  categ\n",
              "0 2021-03-01 00:01:07.843138  0_1259        s_1     c_329  11.99      0\n",
              "1 2021-03-01 10:27:10.675023  0_1259      s_202    c_1599  11.99      0\n",
              "2 2021-03-05 13:32:43.907997  0_1259     s_2114     c_107  11.99      0\n",
              "3 2021-03-07 09:47:05.272864  0_1259     s_2976    c_4215  11.99      0\n",
              "4 2021-03-09 21:26:58.585264  0_1259     s_4088     c_174  11.99      0"
            ]
          },
          "metadata": {
            "tags": []
          },
          "execution_count": 43
        }
      ]
    },
    {
      "cell_type": "code",
      "metadata": {
        "id": "_qwOWas-3zp9",
        "colab_type": "code",
        "colab": {
          "base_uri": "https://localhost:8080/",
          "height": 206
        },
        "outputId": "63c28bc1-e831-4467-8c3e-10eb2358e542"
      },
      "source": [
        "sells_2['mois-année'] = pd.to_datetime(sells_2['date'])\n",
        "sells_2['mois-année'] = sells_2['date'].apply(lambda x: x.strftime(\"%b %Y\"))\n",
        "sells_2.head()"
      ],
      "execution_count": null,
      "outputs": [
        {
          "output_type": "execute_result",
          "data": {
            "text/html": [
              "<div>\n",
              "<style scoped>\n",
              "    .dataframe tbody tr th:only-of-type {\n",
              "        vertical-align: middle;\n",
              "    }\n",
              "\n",
              "    .dataframe tbody tr th {\n",
              "        vertical-align: top;\n",
              "    }\n",
              "\n",
              "    .dataframe thead th {\n",
              "        text-align: right;\n",
              "    }\n",
              "</style>\n",
              "<table border=\"1\" class=\"dataframe\">\n",
              "  <thead>\n",
              "    <tr style=\"text-align: right;\">\n",
              "      <th></th>\n",
              "      <th>date</th>\n",
              "      <th>id_prod</th>\n",
              "      <th>session_id</th>\n",
              "      <th>client_id</th>\n",
              "      <th>price</th>\n",
              "      <th>categ</th>\n",
              "      <th>mois-année</th>\n",
              "    </tr>\n",
              "  </thead>\n",
              "  <tbody>\n",
              "    <tr>\n",
              "      <th>0</th>\n",
              "      <td>2021-03-01 00:01:07.843138</td>\n",
              "      <td>0_1259</td>\n",
              "      <td>s_1</td>\n",
              "      <td>c_329</td>\n",
              "      <td>11.99</td>\n",
              "      <td>0</td>\n",
              "      <td>Mar 2021</td>\n",
              "    </tr>\n",
              "    <tr>\n",
              "      <th>1</th>\n",
              "      <td>2021-03-01 10:27:10.675023</td>\n",
              "      <td>0_1259</td>\n",
              "      <td>s_202</td>\n",
              "      <td>c_1599</td>\n",
              "      <td>11.99</td>\n",
              "      <td>0</td>\n",
              "      <td>Mar 2021</td>\n",
              "    </tr>\n",
              "    <tr>\n",
              "      <th>2</th>\n",
              "      <td>2021-03-05 13:32:43.907997</td>\n",
              "      <td>0_1259</td>\n",
              "      <td>s_2114</td>\n",
              "      <td>c_107</td>\n",
              "      <td>11.99</td>\n",
              "      <td>0</td>\n",
              "      <td>Mar 2021</td>\n",
              "    </tr>\n",
              "    <tr>\n",
              "      <th>3</th>\n",
              "      <td>2021-03-07 09:47:05.272864</td>\n",
              "      <td>0_1259</td>\n",
              "      <td>s_2976</td>\n",
              "      <td>c_4215</td>\n",
              "      <td>11.99</td>\n",
              "      <td>0</td>\n",
              "      <td>Mar 2021</td>\n",
              "    </tr>\n",
              "    <tr>\n",
              "      <th>4</th>\n",
              "      <td>2021-03-09 21:26:58.585264</td>\n",
              "      <td>0_1259</td>\n",
              "      <td>s_4088</td>\n",
              "      <td>c_174</td>\n",
              "      <td>11.99</td>\n",
              "      <td>0</td>\n",
              "      <td>Mar 2021</td>\n",
              "    </tr>\n",
              "  </tbody>\n",
              "</table>\n",
              "</div>"
            ],
            "text/plain": [
              "                        date id_prod session_id  ...  price  categ  mois-année\n",
              "0 2021-03-01 00:01:07.843138  0_1259        s_1  ...  11.99      0    Mar 2021\n",
              "1 2021-03-01 10:27:10.675023  0_1259      s_202  ...  11.99      0    Mar 2021\n",
              "2 2021-03-05 13:32:43.907997  0_1259     s_2114  ...  11.99      0    Mar 2021\n",
              "3 2021-03-07 09:47:05.272864  0_1259     s_2976  ...  11.99      0    Mar 2021\n",
              "4 2021-03-09 21:26:58.585264  0_1259     s_4088  ...  11.99      0    Mar 2021\n",
              "\n",
              "[5 rows x 7 columns]"
            ]
          },
          "metadata": {
            "tags": []
          },
          "execution_count": 44
        }
      ]
    },
    {
      "cell_type": "code",
      "metadata": {
        "id": "awComeht3zqB",
        "colab_type": "code",
        "colab": {
          "base_uri": "https://localhost:8080/",
          "height": 783
        },
        "outputId": "5c265e2f-b918-4ae7-c71f-3093d35ad5c9"
      },
      "source": [
        "sells_sept_oct_nov = sells_2[(sells_2['mois-année'] == 'Sep 2021') |(sells_2['mois-année'] == 'Oct 2021') | (sells_2['mois-année'] == 'Nov 2021')]\n",
        "\n",
        "sns.set_style('ticks')\n",
        "sns.set_context('talk')\n",
        "sns.set_palette('Set1')\n",
        "\n",
        "_ = sns.catplot('mois-année', data=sells_sept_oct_nov, hue='categ', kind='count', height=10)\n",
        "_ = plt.xticks(rotation=45)\n",
        "_ = plt.xlabel('Categorie')\n",
        "_ = plt.ylabel('Nombre de ventes')\n",
        "_ = plt.title('Nombre de ventes en fonction du mois')\n",
        "\n",
        "_ = plt.show()"
      ],
      "execution_count": null,
      "outputs": [
        {
          "output_type": "display_data",
          "data": {
            "image/png": "[encoded data removed]",
            "text/plain": [
              "<Figure size 789.9x720 with 1 Axes>"
            ]
          },
          "metadata": {
            "tags": []
          }
        }
      ]
    },
    {
      "cell_type": "code",
      "metadata": {
        "id": "CcmIfxvT3zqD",
        "colab_type": "code",
        "colab": {
          "base_uri": "https://localhost:8080/",
          "height": 271
        },
        "outputId": "cd9b3588-f692-4b07-8dc2-2d42cec0a360"
      },
      "source": [
        "pd.set_option('mode.chained_assignment', None)\n",
        "sells_oct = sells_2[sells_2['mois-année'] == 'Oct 2021']\n",
        "sells_oct['date'] = sells_oct['date'].apply(lambda x: x.strftime(\"%a %d %b %Y\"))\n",
        "sells_oct['date'] = pd.to_datetime(sells_oct['date'])\n",
        "sells_oct = sells_oct.sort_values('date')\n",
        "sells_oct['date'] = sells_oct['date'].apply(lambda x: x.strftime(\"%a %d %b %Y\"))\n",
        "print(sells_oct)"
      ],
      "execution_count": null,
      "outputs": [
        {
          "output_type": "stream",
          "text": [
            "                   date id_prod session_id client_id  price  categ mois-année\n",
            "298733  Fri 01 Oct 2021   1_643    s_98649    c_1061  29.99      1   Oct 2021\n",
            "293821  Fri 01 Oct 2021   1_202    s_98171    c_4492  19.96      1   Oct 2021\n",
            "253867  Fri 01 Oct 2021  0_1555    s_98337    c_3287  15.99      0   Oct 2021\n",
            "253868  Fri 01 Oct 2021  0_1555    s_98453    c_5051  15.99      0   Oct 2021\n",
            "124064  Fri 01 Oct 2021   1_426    s_98302    c_5772  19.44      1   Oct 2021\n",
            "...                 ...     ...        ...       ...    ...    ...        ...\n",
            "89502   Sun 31 Oct 2021  0_1409   s_112754    c_7949   4.99      0   Oct 2021\n",
            "303559  Sun 31 Oct 2021   0_438   s_112531    c_1876  14.01      0   Oct 2021\n",
            "40273   Sun 31 Oct 2021   2_202   s_112869    c_7554  67.57      2   Oct 2021\n",
            "206796  Sun 31 Oct 2021  0_2083   s_112851    c_1863   6.99      0   Oct 2021\n",
            "258980  Sun 31 Oct 2021  0_1761   s_112630    c_5545   7.99      0   Oct 2021\n",
            "\n",
            "[20043 rows x 7 columns]\n"
          ],
          "name": "stdout"
        }
      ]
    },
    {
      "cell_type": "code",
      "metadata": {
        "id": "LcZCfXI63zqG",
        "colab_type": "code",
        "colab": {
          "base_uri": "https://localhost:8080/",
          "height": 858
        },
        "outputId": "d9e51fff-21cb-4ca5-d530-117b0f4d01bf"
      },
      "source": [
        "sns.set_style('ticks')\n",
        "sns.set_context('talk')\n",
        "sns.set_palette('Set1')\n",
        "\n",
        "_ = sns.catplot('date', data=sells_oct, hue='categ', kind='count', height=10)\n",
        "_ = plt.xticks(rotation=90)\n",
        "_ = plt.xlabel('Date')\n",
        "_ = plt.ylabel('Nombre de ventes')\n",
        "_ = plt.title('Nombre de ventes en fonction de la catégorie pour le mois d\\'octobre 2021')\n",
        "\n",
        "_ = plt.show()"
      ],
      "execution_count": null,
      "outputs": [
        {
          "output_type": "display_data",
          "data": {
            "image/png": "[encoded data removed]",
            "text/plain": [
              "<Figure size 789.9x720 with 1 Axes>"
            ]
          },
          "metadata": {
            "tags": []
          }
        }
      ]
    }
  ]
}